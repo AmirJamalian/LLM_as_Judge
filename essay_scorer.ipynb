{
 "cells": [
  {
   "cell_type": "code",
   "execution_count": 20,
   "metadata": {},
   "outputs": [],
   "source": [
    "import pandas as pd\n",
    "\n",
    "from utilityfunctions import *"
   ]
  },
  {
   "cell_type": "code",
   "execution_count": 21,
   "metadata": {},
   "outputs": [],
   "source": [
    "df = pd.read_csv(\"./essay3.csv\")"
   ]
  },
  {
   "cell_type": "code",
   "execution_count": 22,
   "metadata": {},
   "outputs": [],
   "source": [
    "llm1 = \"gpt-4o\"\n",
    "llm2 = \"gpt-4o-mini\"\n",
    "llm3 = \"gpt-3.5-turbo\"\n",
    "q1_vec = []\n",
    "q2_vec = []\n",
    "q3_vec = []\n",
    "for i in range(len(df)):\n",
    "    essay = df.loc[i][\"essay\"]\n",
    "    topic = df.loc[i][\"topic\"]\n",
    "    q1_vec.append(evaluate_essay(essay, topic, llm1))\n",
    "    q2_vec.append(evaluate_essay(essay, topic, llm2))\n",
    "    q3_vec.append(evaluate_essay(essay, topic, llm3))"
   ]
  },
  {
   "cell_type": "code",
   "execution_count": 23,
   "metadata": {},
   "outputs": [],
   "source": [
    "df[\"q1\"] = q1_vec\n",
    "df[\"q2\"] = q2_vec\n",
    "df[\"q3\"] = q3_vec\n",
    "\n",
    "df.to_csv(\"essay_scores3.csv\", index=False)"
   ]
  }
 ],
 "metadata": {
  "kernelspec": {
   "display_name": ".venv",
   "language": "python",
   "name": "python3"
  },
  "language_info": {
   "codemirror_mode": {
    "name": "ipython",
    "version": 3
   },
   "file_extension": ".py",
   "mimetype": "text/x-python",
   "name": "python",
   "nbconvert_exporter": "python",
   "pygments_lexer": "ipython3",
   "version": "3.13.1"
  }
 },
 "nbformat": 4,
 "nbformat_minor": 2
}
