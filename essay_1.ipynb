{
 "cells": [
  {
   "cell_type": "code",
   "execution_count": 22,
   "metadata": {},
   "outputs": [],
   "source": [
    "import pandas as pd\n",
    "import numpy  as np\n",
    "import os\n",
    "import openai\n",
    "\n",
    "openai.api_key = os.getenv(\"OPENAI_API_KEY\")"
   ]
  },
  {
   "cell_type": "code",
   "execution_count": 23,
   "metadata": {},
   "outputs": [],
   "source": [
    "df = pd.read_csv(\"./dataset.csv\")\n",
    "\n",
    "id_start = int(df.loc[len(df)-1][\"id\"])"
   ]
  },
  {
   "cell_type": "code",
   "execution_count": 24,
   "metadata": {},
   "outputs": [],
   "source": [
    "def generate_essay(topic, word_count=100):\n",
    "    \"\"\"\n",
    "    Generate an essay on the given topic using OpenAI GPT-4o API.\n",
    "\n",
    "    :param topic: The topic of the essay.\n",
    "    :param word_count: Desired word count of the essay (approximate).\n",
    "    :return: Generated essay as a string.\n",
    "    \"\"\"\n",
    "    try:\n",
    "        # Define the prompt\n",
    "        prompt = (\n",
    "            f\"Write an essay about '{topic}'. \"\n",
    "            f\"The essay should be approximately {word_count} words long.\"\n",
    "        )\n",
    "\n",
    "        # Call OpenAI API\n",
    "        response = openai.ChatCompletion.create(\n",
    "            model=\"gpt-4o\",\n",
    "            messages=[\n",
    "                {\"role\": \"system\", \"content\": \"You are an essay writer.\"},\n",
    "                {\"role\": \"user\", \"content\": prompt}\n",
    "            ],\n",
    "            max_tokens=word_count * 4 // 3,  # Estimate tokens for word count\n",
    "            temperature=0.7                  # Adjust creativity level\n",
    "        )\n",
    "\n",
    "        # Extract and return the essay text\n",
    "        essay = response['choices'][0]['message']['content'].strip()\n",
    "        return essay\n",
    "\n",
    "    except Exception as e:  # Catch generic exceptions\n",
    "        return f\"Error generating essay: {str(e)}\"\n"
   ]
  },
  {
   "cell_type": "code",
   "execution_count": 79,
   "metadata": {},
   "outputs": [],
   "source": [
    "def evaluate_essay(essay, topic, word_count=10, gpt_model=\"gpt-4o\"):\n",
    "    try:\n",
    "        # Define the prompt\n",
    "        prompt = (\n",
    "            # f\"Consider this essay '{essay}' which is written on the subject of this topic: '{topic}'. \"\n",
    "            # f\"Evaluate the essay and return a real value in [0, 9] based on its relevance to the topic and its correctness. \"\n",
    "            # f\"Your answer shoud be in this format: Scode = ....\"\n",
    "            # # f\"Do not write anything more.\"\n",
    "            # f\"Explain how did you com to this score mathematically.\"\n",
    "            \n",
    "            f\"You are an expert essay evaluator. Your task is to evaluate the quality of essays based on their relevance to the topic, coherence, organization, grammar, and depth of content.\"\n",
    "            f\" The scoring range is from 0.0 to 9.0, with 0.0 being the lowest quality and 9.0 being outstanding quality.\"\n",
    "            f\" Here is the topic: \\\"{topic}\\\".\"\n",
    "            f\" Here is the essay:\\n\\n{essay}\\n\\n\"\n",
    "            f\"Please provide a single numeric score (0.0 to 9.0) as the output.\"\n",
    "        )\n",
    "\n",
    "        # Call OpenAI API\n",
    "        response = openai.ChatCompletion.create(\n",
    "            model=gpt_model,\n",
    "            messages=[\n",
    "                {\"role\": \"system\", \"content\": \"You evaluate essays based on quality and relevance to the topic.\"},\n",
    "                {\"role\": \"user\", \"content\": prompt}\n",
    "            ],\n",
    "            # max_tokens = word_count\n",
    "        )\n",
    "\n",
    "        # Extract and return the essay text\n",
    "        score = response['choices'][0]['message']['content'].strip()\n",
    "        return score\n",
    "\n",
    "    except Exception as e:  # Catch generic exceptions\n",
    "        return f\"Error generating score: {str(e)}\"\n"
   ]
  },
  {
   "cell_type": "code",
   "execution_count": 80,
   "metadata": {},
   "outputs": [
    {
     "data": {
      "text/plain": [
       "'Ferdowsi, the illustrious Persian poet, is renowned for his magnum opus, the Shahnameh, a monumental epic that weaves the history and mythology of Persia through rich, evocative language. Central to his poetic mastery is the use of metaphors, which animate the text with vivid imagery and profound symbolism. Ferdowsi employs metaphors to convey themes of heroism, destiny, and the eternal struggle between good and evil. For instance, he often likens heroes to majestic lions, symbolizing strength and nobility. Such metaphors not only embellish the narrative but also deepen its emotional resonance, allowing readers to explore the intricate layers of'"
      ]
     },
     "execution_count": 80,
     "metadata": {},
     "output_type": "execute_result"
    }
   ],
   "source": [
    "topic = \"metaphors in Ferdowsi's poems\"\n",
    "\n",
    "essay = generate_essay(topic, word_count=100)\n",
    "\n",
    "essay"
   ]
  },
  {
   "cell_type": "code",
   "execution_count": 84,
   "metadata": {},
   "outputs": [],
   "source": [
    "essay = \"I am a blackboard. \" + essay + \" The girl is a bird.\""
   ]
  },
  {
   "cell_type": "code",
   "execution_count": 95,
   "metadata": {},
   "outputs": [
    {
     "name": "stdout",
     "output_type": "stream",
     "text": [
      "gpt-3.5-turbo :   I would rate this essay a 5.0. \n",
      "\n",
      "While the essay discusses the use of metaphors in Ferdowsi's poems and provides some examples, there are some issues with coherence and relevance to the topic. The mention of \"The girl is a bird\" at the end seems disconnected from the overarching discussion of Ferdowsi's metaphors. Additionally, the essay could benefit from a clearer structure and more in-depth analysis of how metaphors are used in Ferdowsi's work. Overall, the essay shows a good understanding of the topic but lacks depth and organization.\n",
      "================================================================================\n",
      "babbage-002 :   Error generating score: This is not a chat model and thus not supported in the v1/chat/completions endpoint. Did you mean to use v1/completions?\n",
      "================================================================================\n",
      "gpt-4 :   5.0\n",
      "================================================================================\n",
      "gpt-4o :   6.0\n",
      "================================================================================\n",
      "gpt-4o-mini :   5.0\n",
      "================================================================================\n"
     ]
    }
   ],
   "source": [
    "models = [\"gpt-3.5-turbo\", \"babbage-002\", \"gpt-4\", \"gpt-4o\", \"gpt-4o-mini\"]\n",
    "\n",
    "for item in models:\n",
    "    print(item, \":  \", evaluate_essay(essay, topic, word_count=1000, gpt_model=item))\n",
    "    print(\"=\"*80)"
   ]
  },
  {
   "cell_type": "code",
   "execution_count": 18,
   "metadata": {},
   "outputs": [],
   "source": [
    "topics = [\"The Role of Technology in Modern Health Care\",\n",
    "          \"Global Health Care Systems: A Comparative Analysis\",\n",
    "          \"Mental Health Awareness and Support Systems\",\n",
    "          \"The Impact of COVID-19 on Global Health Care\",\n",
    "          \"Ethics in Health Care Decision-Making\",\n",
    "          \"Health Care Accessibility and Disparities\",\n",
    "          \"Preventative Health Care: Trends and Importance\",\n",
    "          \"The Rising Costs of Health Care and Possible Solutions\",\n",
    "          \"The Role of Big Data and Analytics in Health Care\",\n",
    "          \"Health Care Workforce Challenges\",\n",
    "          ]"
   ]
  },
  {
   "cell_type": "code",
   "execution_count": 19,
   "metadata": {},
   "outputs": [],
   "source": [
    "id_vec = []\n",
    "essay_vec = []\n",
    "for i in range(len(topics)):\n",
    "    id = id_start + i + 1\n",
    "    topic = topics[i]\n",
    "    essay = generate_essay(topic)\n",
    "    id_vec.append(id)\n",
    "    essay_vec.append(essay)"
   ]
  },
  {
   "cell_type": "code",
   "execution_count": 20,
   "metadata": {},
   "outputs": [
    {
     "data": {
      "text/html": [
       "<div>\n",
       "<style scoped>\n",
       "    .dataframe tbody tr th:only-of-type {\n",
       "        vertical-align: middle;\n",
       "    }\n",
       "\n",
       "    .dataframe tbody tr th {\n",
       "        vertical-align: top;\n",
       "    }\n",
       "\n",
       "    .dataframe thead th {\n",
       "        text-align: right;\n",
       "    }\n",
       "</style>\n",
       "<table border=\"1\" class=\"dataframe\">\n",
       "  <thead>\n",
       "    <tr style=\"text-align: right;\">\n",
       "      <th></th>\n",
       "      <th>id</th>\n",
       "      <th>title</th>\n",
       "      <th>essay</th>\n",
       "    </tr>\n",
       "  </thead>\n",
       "  <tbody>\n",
       "    <tr>\n",
       "      <th>0</th>\n",
       "      <td>1041</td>\n",
       "      <td>The Role of Technology in Modern Health Care</td>\n",
       "      <td>Technology plays a pivotal role in modern heal...</td>\n",
       "    </tr>\n",
       "    <tr>\n",
       "      <th>1</th>\n",
       "      <td>1042</td>\n",
       "      <td>Global Health Care Systems: A Comparative Anal...</td>\n",
       "      <td>Global health care systems vary significantly ...</td>\n",
       "    </tr>\n",
       "    <tr>\n",
       "      <th>2</th>\n",
       "      <td>1043</td>\n",
       "      <td>Mental Health Awareness and Support Systems</td>\n",
       "      <td>Mental health awareness and support systems ar...</td>\n",
       "    </tr>\n",
       "    <tr>\n",
       "      <th>3</th>\n",
       "      <td>1044</td>\n",
       "      <td>The Impact of COVID-19 on Global Health Care</td>\n",
       "      <td>The COVID-19 pandemic has profoundly impacted ...</td>\n",
       "    </tr>\n",
       "    <tr>\n",
       "      <th>4</th>\n",
       "      <td>1045</td>\n",
       "      <td>Ethics in Health Care Decision-Making</td>\n",
       "      <td>Ethics in health care decision-making is a cru...</td>\n",
       "    </tr>\n",
       "    <tr>\n",
       "      <th>5</th>\n",
       "      <td>1046</td>\n",
       "      <td>Health Care Accessibility and Disparities</td>\n",
       "      <td>Health care accessibility and disparities rema...</td>\n",
       "    </tr>\n",
       "    <tr>\n",
       "      <th>6</th>\n",
       "      <td>1047</td>\n",
       "      <td>Preventative Health Care: Trends and Importance</td>\n",
       "      <td>Preventative health care emphasizes the import...</td>\n",
       "    </tr>\n",
       "    <tr>\n",
       "      <th>7</th>\n",
       "      <td>1048</td>\n",
       "      <td>The Rising Costs of Health Care and Possible S...</td>\n",
       "      <td>The rising costs of health care present a sign...</td>\n",
       "    </tr>\n",
       "    <tr>\n",
       "      <th>8</th>\n",
       "      <td>1049</td>\n",
       "      <td>The Role of Big Data and Analytics in Health Care</td>\n",
       "      <td>Big Data and analytics have revolutionized hea...</td>\n",
       "    </tr>\n",
       "    <tr>\n",
       "      <th>9</th>\n",
       "      <td>1050</td>\n",
       "      <td>Health Care Workforce Challenges</td>\n",
       "      <td>The health care workforce faces significant ch...</td>\n",
       "    </tr>\n",
       "  </tbody>\n",
       "</table>\n",
       "</div>"
      ],
      "text/plain": [
       "     id                                              title  \\\n",
       "0  1041       The Role of Technology in Modern Health Care   \n",
       "1  1042  Global Health Care Systems: A Comparative Anal...   \n",
       "2  1043        Mental Health Awareness and Support Systems   \n",
       "3  1044       The Impact of COVID-19 on Global Health Care   \n",
       "4  1045              Ethics in Health Care Decision-Making   \n",
       "5  1046          Health Care Accessibility and Disparities   \n",
       "6  1047    Preventative Health Care: Trends and Importance   \n",
       "7  1048  The Rising Costs of Health Care and Possible S...   \n",
       "8  1049  The Role of Big Data and Analytics in Health Care   \n",
       "9  1050                   Health Care Workforce Challenges   \n",
       "\n",
       "                                               essay  \n",
       "0  Technology plays a pivotal role in modern heal...  \n",
       "1  Global health care systems vary significantly ...  \n",
       "2  Mental health awareness and support systems ar...  \n",
       "3  The COVID-19 pandemic has profoundly impacted ...  \n",
       "4  Ethics in health care decision-making is a cru...  \n",
       "5  Health care accessibility and disparities rema...  \n",
       "6  Preventative health care emphasizes the import...  \n",
       "7  The rising costs of health care present a sign...  \n",
       "8  Big Data and analytics have revolutionized hea...  \n",
       "9  The health care workforce faces significant ch...  "
      ]
     },
     "execution_count": 20,
     "metadata": {},
     "output_type": "execute_result"
    }
   ],
   "source": [
    "res = pd.DataFrame()\n",
    "\n",
    "res[\"id\"]    = id_vec\n",
    "res[\"title\"] = topics\n",
    "res[\"essay\"] = essay_vec\n",
    "\n",
    "res"
   ]
  },
  {
   "cell_type": "code",
   "execution_count": 21,
   "metadata": {},
   "outputs": [],
   "source": [
    "df = pd.concat([df, res])\n",
    "df.reset_index(inplace=True, drop=True)\n",
    "df.to_csv(\"dataset.csv\", index=False)"
   ]
  }
 ],
 "metadata": {
  "kernelspec": {
   "display_name": ".venv",
   "language": "python",
   "name": "python3"
  },
  "language_info": {
   "codemirror_mode": {
    "name": "ipython",
    "version": 3
   },
   "file_extension": ".py",
   "mimetype": "text/x-python",
   "name": "python",
   "nbconvert_exporter": "python",
   "pygments_lexer": "ipython3",
   "version": "3.13.1"
  }
 },
 "nbformat": 4,
 "nbformat_minor": 2
}
